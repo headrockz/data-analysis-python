{
 "metadata": {
  "language_info": {
   "codemirror_mode": {
    "name": "ipython",
    "version": 3
   },
   "file_extension": ".py",
   "mimetype": "text/x-python",
   "name": "python",
   "nbconvert_exporter": "python",
   "pygments_lexer": "ipython3",
   "version": "3.9.1-final"
  },
  "orig_nbformat": 2,
  "kernelspec": {
   "name": "python3",
   "display_name": "Python 3.9.1 64-bit",
   "metadata": {
    "interpreter": {
     "hash": "ac59ebe37160ed0dfa835113d9b8498d9f09ceb179beaac4002f036b9467c963"
    }
   }
  }
 },
 "nbformat": 4,
 "nbformat_minor": 2,
 "cells": [
  {
   "cell_type": "code",
   "execution_count": 1,
   "metadata": {},
   "outputs": [],
   "source": [
    "import numpy as np \n",
    "import pandas as pd \n",
    "from pandas_datareader import data as web\n",
    "from datetime import date"
   ]
  },
  {
   "cell_type": "code",
   "execution_count": 2,
   "metadata": {},
   "outputs": [],
   "source": [
    "data_atual = date.today()\n",
    "ano5 = f'{data_atual.year-5}-{data_atual.month}-{data_atual.day}'\n",
    "ano10 = f'{data_atual.year-10}-{data_atual.month}-{data_atual.day}'"
   ]
  },
  {
   "cell_type": "code",
   "execution_count": 3,
   "metadata": {},
   "outputs": [],
   "source": [
    "#Coloque as as ações que deseja fazer analise\n",
    "stocks = ['ITSA4.SA', 'BBAS3.SA', 'BBSE3.SA', 'FLRY3.SA', 'ENBR3.SA', 'ELET3.SA','XPLG11.SA', 'XPIN11.SA']\n",
    "#Precisaremos criar um DataFrame para armazenar os dados das ações\n",
    "prices = pd.DataFrame()\n",
    "#Vamos utilizar a função get_data_yahoo para pegar o preço de fechamento ajustado de cada ação\n",
    "for s in stocks:\n",
    "    prices[s] = web.get_data_yahoo(s, ano5)['Adj Close']"
   ]
  },
  {
   "cell_type": "code",
   "execution_count": 4,
   "metadata": {},
   "outputs": [
    {
     "output_type": "execute_result",
     "data": {
      "text/plain": [
       "            ITSA4.SA  BBAS3.SA  BBSE3.SA  FLRY3.SA  ENBR3.SA  ELET3.SA  \\\n",
       "Date                                                                     \n",
       "2016-02-17       NaN       NaN       NaN       NaN       NaN       NaN   \n",
       "2016-02-18 -0.017831 -0.037366 -0.031112  0.001323 -0.002407 -0.008230   \n",
       "2016-02-19  0.001817  0.010819  0.006631  0.008561 -0.012935 -0.003311   \n",
       "2016-02-22  0.033286  0.045086  0.042061  0.009138  0.012935  0.048553   \n",
       "2016-02-23 -0.001489 -0.006635 -0.008751  0.004538 -0.008065 -0.051875   \n",
       "...              ...       ...       ...       ...       ...       ...   \n",
       "2021-02-08 -0.014982 -0.002654 -0.015192 -0.007128 -0.008172 -0.003698   \n",
       "2021-02-09  0.008455  0.012032  0.017294 -0.008982 -0.007205  0.004704   \n",
       "2021-02-10 -0.006570 -0.013805  0.004887 -0.007607 -0.018244 -0.018951   \n",
       "2021-02-11  0.001882  0.003838 -0.002789  0.021228  0.000526  0.013910   \n",
       "2021-02-12 -0.003766 -0.005614 -0.005489  0.007801 -0.005272  0.012056   \n",
       "\n",
       "            XPLG11.SA  XPIN11.SA  \n",
       "Date                              \n",
       "2016-02-17        NaN        NaN  \n",
       "2016-02-18        NaN        NaN  \n",
       "2016-02-19        NaN        NaN  \n",
       "2016-02-22        NaN        NaN  \n",
       "2016-02-23        NaN        NaN  \n",
       "...               ...        ...  \n",
       "2021-02-08  -0.002841  -0.004791  \n",
       "2021-02-09   0.002355  -0.000175  \n",
       "2021-02-10  -0.001624   0.005748  \n",
       "2021-02-11  -0.002359  -0.007496  \n",
       "2021-02-12  -0.004898   0.006106  \n",
       "\n",
       "[1242 rows x 8 columns]"
      ],
      "text/html": "<div>\n<style scoped>\n    .dataframe tbody tr th:only-of-type {\n        vertical-align: middle;\n    }\n\n    .dataframe tbody tr th {\n        vertical-align: top;\n    }\n\n    .dataframe thead th {\n        text-align: right;\n    }\n</style>\n<table border=\"1\" class=\"dataframe\">\n  <thead>\n    <tr style=\"text-align: right;\">\n      <th></th>\n      <th>ITSA4.SA</th>\n      <th>BBAS3.SA</th>\n      <th>BBSE3.SA</th>\n      <th>FLRY3.SA</th>\n      <th>ENBR3.SA</th>\n      <th>ELET3.SA</th>\n      <th>XPLG11.SA</th>\n      <th>XPIN11.SA</th>\n    </tr>\n    <tr>\n      <th>Date</th>\n      <th></th>\n      <th></th>\n      <th></th>\n      <th></th>\n      <th></th>\n      <th></th>\n      <th></th>\n      <th></th>\n    </tr>\n  </thead>\n  <tbody>\n    <tr>\n      <th>2016-02-17</th>\n      <td>NaN</td>\n      <td>NaN</td>\n      <td>NaN</td>\n      <td>NaN</td>\n      <td>NaN</td>\n      <td>NaN</td>\n      <td>NaN</td>\n      <td>NaN</td>\n    </tr>\n    <tr>\n      <th>2016-02-18</th>\n      <td>-0.017831</td>\n      <td>-0.037366</td>\n      <td>-0.031112</td>\n      <td>0.001323</td>\n      <td>-0.002407</td>\n      <td>-0.008230</td>\n      <td>NaN</td>\n      <td>NaN</td>\n    </tr>\n    <tr>\n      <th>2016-02-19</th>\n      <td>0.001817</td>\n      <td>0.010819</td>\n      <td>0.006631</td>\n      <td>0.008561</td>\n      <td>-0.012935</td>\n      <td>-0.003311</td>\n      <td>NaN</td>\n      <td>NaN</td>\n    </tr>\n    <tr>\n      <th>2016-02-22</th>\n      <td>0.033286</td>\n      <td>0.045086</td>\n      <td>0.042061</td>\n      <td>0.009138</td>\n      <td>0.012935</td>\n      <td>0.048553</td>\n      <td>NaN</td>\n      <td>NaN</td>\n    </tr>\n    <tr>\n      <th>2016-02-23</th>\n      <td>-0.001489</td>\n      <td>-0.006635</td>\n      <td>-0.008751</td>\n      <td>0.004538</td>\n      <td>-0.008065</td>\n      <td>-0.051875</td>\n      <td>NaN</td>\n      <td>NaN</td>\n    </tr>\n    <tr>\n      <th>...</th>\n      <td>...</td>\n      <td>...</td>\n      <td>...</td>\n      <td>...</td>\n      <td>...</td>\n      <td>...</td>\n      <td>...</td>\n      <td>...</td>\n    </tr>\n    <tr>\n      <th>2021-02-08</th>\n      <td>-0.014982</td>\n      <td>-0.002654</td>\n      <td>-0.015192</td>\n      <td>-0.007128</td>\n      <td>-0.008172</td>\n      <td>-0.003698</td>\n      <td>-0.002841</td>\n      <td>-0.004791</td>\n    </tr>\n    <tr>\n      <th>2021-02-09</th>\n      <td>0.008455</td>\n      <td>0.012032</td>\n      <td>0.017294</td>\n      <td>-0.008982</td>\n      <td>-0.007205</td>\n      <td>0.004704</td>\n      <td>0.002355</td>\n      <td>-0.000175</td>\n    </tr>\n    <tr>\n      <th>2021-02-10</th>\n      <td>-0.006570</td>\n      <td>-0.013805</td>\n      <td>0.004887</td>\n      <td>-0.007607</td>\n      <td>-0.018244</td>\n      <td>-0.018951</td>\n      <td>-0.001624</td>\n      <td>0.005748</td>\n    </tr>\n    <tr>\n      <th>2021-02-11</th>\n      <td>0.001882</td>\n      <td>0.003838</td>\n      <td>-0.002789</td>\n      <td>0.021228</td>\n      <td>0.000526</td>\n      <td>0.013910</td>\n      <td>-0.002359</td>\n      <td>-0.007496</td>\n    </tr>\n    <tr>\n      <th>2021-02-12</th>\n      <td>-0.003766</td>\n      <td>-0.005614</td>\n      <td>-0.005489</td>\n      <td>0.007801</td>\n      <td>-0.005272</td>\n      <td>0.012056</td>\n      <td>-0.004898</td>\n      <td>0.006106</td>\n    </tr>\n  </tbody>\n</table>\n<p>1242 rows × 8 columns</p>\n</div>"
     },
     "metadata": {},
     "execution_count": 4
    }
   ],
   "source": [
    "risk_returns = np.log(prices / prices.shift(1))\n",
    "risk_returns"
   ]
  },
  {
   "cell_type": "code",
   "execution_count": 5,
   "metadata": {},
   "outputs": [
    {
     "output_type": "execute_result",
     "data": {
      "text/plain": [
       "ITSA4.SA     0.000766\n",
       "BBAS3.SA     0.000925\n",
       "BBSE3.SA     0.000437\n",
       "FLRY3.SA     0.001228\n",
       "ENBR3.SA     0.000564\n",
       "ELET3.SA     0.001432\n",
       "XPLG11.SA    0.000324\n",
       "XPIN11.SA   -0.000011\n",
       "dtype: float64"
      ]
     },
     "metadata": {},
     "execution_count": 5
    }
   ],
   "source": [
    "#Vamos utilizar o retorno logaritmo para calcular o retorno diário de cada ação\n",
    "risk_returns.mean()"
   ]
  },
  {
   "cell_type": "code",
   "execution_count": 6,
   "metadata": {},
   "outputs": [
    {
     "output_type": "execute_result",
     "data": {
      "text/plain": [
       "ITSA4.SA     0.191622\n",
       "BBAS3.SA     0.231293\n",
       "BBSE3.SA     0.109231\n",
       "FLRY3.SA     0.306952\n",
       "ENBR3.SA     0.141034\n",
       "ELET3.SA     0.357948\n",
       "XPLG11.SA    0.081048\n",
       "XPIN11.SA   -0.002794\n",
       "dtype: float64"
      ]
     },
     "metadata": {},
     "execution_count": 6
    }
   ],
   "source": [
    "#Agora vamos multiplicar por 250 para calcular o retorno anual de cada ação\n",
    "risk_returns.mean() * 250"
   ]
  },
  {
   "cell_type": "code",
   "execution_count": 7,
   "metadata": {},
   "outputs": [
    {
     "output_type": "execute_result",
     "data": {
      "text/plain": [
       "ITSA4.SA     0.020459\n",
       "BBAS3.SA     0.029659\n",
       "BBSE3.SA     0.019471\n",
       "FLRY3.SA     0.021588\n",
       "ENBR3.SA     0.018916\n",
       "ELET3.SA     0.039263\n",
       "XPLG11.SA    0.010686\n",
       "XPIN11.SA    0.006183\n",
       "dtype: float64"
      ]
     },
     "metadata": {},
     "execution_count": 7
    }
   ],
   "source": [
    "#Agora vamos utilizar o desvio padrão para calcular o risco diário de cada ação\n",
    "risk_returns.std()"
   ]
  },
  {
   "cell_type": "code",
   "execution_count": 8,
   "metadata": {},
   "outputs": [
    {
     "output_type": "execute_result",
     "data": {
      "text/plain": [
       "ITSA4.SA     0.323488\n",
       "BBAS3.SA     0.468944\n",
       "BBSE3.SA     0.307862\n",
       "FLRY3.SA     0.341330\n",
       "ENBR3.SA     0.299080\n",
       "ELET3.SA     0.620804\n",
       "XPLG11.SA    0.168956\n",
       "XPIN11.SA    0.097768\n",
       "dtype: float64"
      ]
     },
     "metadata": {},
     "execution_count": 8
    }
   ],
   "source": [
    "#Agora o risco anual de cada uma\n",
    "risk_returns.std() * 250 ** 0.5"
   ]
  },
  {
   "cell_type": "code",
   "execution_count": null,
   "metadata": {},
   "outputs": [],
   "source": []
  }
 ]
}