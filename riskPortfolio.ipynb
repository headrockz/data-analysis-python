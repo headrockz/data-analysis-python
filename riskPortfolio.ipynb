{
 "metadata": {
  "language_info": {
   "codemirror_mode": {
    "name": "ipython",
    "version": 3
   },
   "file_extension": ".py",
   "mimetype": "text/x-python",
   "name": "python",
   "nbconvert_exporter": "python",
   "pygments_lexer": "ipython3",
   "version": "3.9.1-final"
  },
  "orig_nbformat": 2,
  "kernelspec": {
   "name": "python38464bitccd6af588fad4d2e922cacc11952c671",
   "display_name": "Python 3.8.4 64-bit",
   "language": "python"
  }
 },
 "nbformat": 4,
 "nbformat_minor": 2,
 "cells": [
  {
   "cell_type": "code",
   "execution_count": 1,
   "metadata": {},
   "outputs": [],
   "source": [
    "import numpy as np \n",
    "import pandas as pd  \n",
    "from pandas_datareader import data as web\n",
    "from datetime import date"
   ]
  },
  {
   "cell_type": "code",
   "execution_count": 2,
   "metadata": {},
   "outputs": [],
   "source": [
    "data_atual = date.today()\n",
    "ano5 = f'{data_atual.year-5}-{data_atual.month}-{data_atual.day}'\n",
    "ano10 = f'{data_atual.year-10}-{data_atual.month}-{data_atual.day}'"
   ]
  },
  {
   "cell_type": "code",
   "execution_count": 3,
   "metadata": {},
   "outputs": [],
   "source": [
    "stocks = ['ITSA4.SA', 'BBAS3.SA', 'BBSE3.SA', 'FLRY3.SA', 'ENBR3.SA', 'ELET3.SA','XPLG11.SA', 'XPIN11.SA']\n",
    "prices = pd.DataFrame()\n",
    "for s in stocks:\n",
    "    prices[s] = web.get_data_yahoo(s, ano5)['Adj Close']\n",
    "\n",
    "risk_returns = np.log(prices / prices.shift(1))"
   ]
  },
  {
   "cell_type": "code",
   "execution_count": 6,
   "metadata": {},
   "outputs": [],
   "source": [
    "weights = np.array([0.1173, 0.1134, 0.0554, 0.0783, 0.0710, 0.0356, 0.1208, 0.2273])"
   ]
  },
  {
   "source": [
    "### Portfolio Variance"
   ],
   "cell_type": "markdown",
   "metadata": {}
  },
  {
   "cell_type": "code",
   "execution_count": 7,
   "metadata": {},
   "outputs": [
    {
     "output_type": "stream",
     "name": "stdout",
     "text": [
      "2.22%\n"
     ]
    }
   ],
   "source": [
    "pfolio_var = np.dot(weights.T, np.dot(risk_returns.cov() * 250, weights))\n",
    "print(f'{(pfolio_var * 100):.2f}%')"
   ]
  },
  {
   "source": [
    "### Portfolio Volatility"
   ],
   "cell_type": "markdown",
   "metadata": {}
  },
  {
   "cell_type": "code",
   "execution_count": 8,
   "metadata": {},
   "outputs": [
    {
     "output_type": "stream",
     "name": "stdout",
     "text": [
      "14.90%\n"
     ]
    }
   ],
   "source": [
    "pfolio_vol = (np.dot(weights.T, np.dot(risk_returns.cov() * 250, weights))) ** 0.5\n",
    "print(f'{(pfolio_vol * 100):.2f}%')"
   ]
  },
  {
   "source": [
    "### Calculating Diversifiable and Non-Diversifiable"
   ],
   "cell_type": "markdown",
   "metadata": {}
  },
  {
   "source": [
    "Diversifiable"
   ],
   "cell_type": "markdown",
   "metadata": {}
  },
  {
   "cell_type": "code",
   "execution_count": 9,
   "metadata": {},
   "outputs": [
    {
     "output_type": "stream",
     "name": "stdout",
     "text": [
      "-1.51%\n"
     ]
    }
   ],
   "source": [
    "var_a = 0\n",
    "for k, v in enumerate(stocks):\n",
    "    var_a -=  weights[k] ** 2 * (float(risk_returns[[v]].var()) * 250)\n",
    "dr = - pfolio_var - var_a\n",
    "\n",
    "print(f'{(dr * 100):.2f}%')"
   ]
  },
  {
   "source": [
    "Non-Diversifiable Risk"
   ],
   "cell_type": "markdown",
   "metadata": {}
  },
  {
   "cell_type": "code",
   "execution_count": 10,
   "metadata": {},
   "outputs": [
    {
     "output_type": "stream",
     "name": "stdout",
     "text": [
      "3.73%\n"
     ]
    }
   ],
   "source": [
    "n_dr = pfolio_var - dr\n",
    "print(f'{(n_dr * 100):.2f}%')"
   ]
  },
  {
   "cell_type": "code",
   "execution_count": null,
   "metadata": {},
   "outputs": [],
   "source": []
  }
 ]
}